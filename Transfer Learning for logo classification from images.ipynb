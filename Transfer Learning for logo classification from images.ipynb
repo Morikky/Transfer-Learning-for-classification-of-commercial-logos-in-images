{
 "cells": [
  {
   "cell_type": "markdown",
   "id": "f5f06a3e",
   "metadata": {},
   "source": [
    "# Load the data"
   ]
  },
  {
   "cell_type": "code",
   "execution_count": 1,
   "id": "bc9e1ebb",
   "metadata": {},
   "outputs": [
    {
     "name": "stdout",
     "output_type": "stream",
     "text": [
      "Found 300 files belonging to 10 classes.\n",
      "Using 240 files for training.\n",
      "Using 60 files for validation.\n"
     ]
    }
   ],
   "source": [
    "#Loading is of 10 logo types. \n",
    "#It's after preprocessing to organise the images under folders with their class names.\n",
    "\n",
    "import numpy as np\n",
    "from tensorflow import keras\n",
    "\n",
    "#Define the data folder\n",
    "data_dir='C:/Research/Logo detection project/flicker_logos_27_dataset/labeled_images_10'\n",
    "\n",
    "#Set the image size (known from the dataset)\n",
    "input_shape=[500,375,3]\n",
    "\n",
    "\n",
    "#Load the images their labels and split to train/test\n",
    "train_data , test_data=keras.utils.image_dataset_from_directory(\n",
    "    data_dir,labels='inferred',label_mode='categorical',class_names=None,\n",
    "    color_mode='rgb',batch_size=32,image_size=input_shape[:2],shuffle=True,seed=0,\n",
    "    validation_split=0.2, subset='both',interpolation='bilinear',follow_links=False,\n",
    "    crop_to_aspect_ratio=False)\n",
    "\n",
    "\n",
    "#Get the class names (will be used for plots)\n",
    "class_names=test_data.class_names\n",
    "\n",
    "#Get the number of classes\n",
    "num_classes=len(test_data.class_names)\n",
    "\n",
    "#Get the size of test set\n",
    "test_size=len(test_data.file_paths)\n",
    "\n"
   ]
  },
  {
   "cell_type": "markdown",
   "id": "fbca8dcd",
   "metadata": {},
   "source": [
    "# Augmentation of data"
   ]
  },
  {
   "cell_type": "code",
   "execution_count": 2,
   "id": "ec50895a",
   "metadata": {},
   "outputs": [],
   "source": [
    "#Here augmentation (horizontal and vertical flip, rotation and zoom) is defined and will be used within the model.\n",
    "\n",
    "from keras import layers\n",
    "\n",
    "data_augmentation = keras.Sequential(\n",
    "    [\n",
    "        layers.RandomFlip(\"horizontal\"),\n",
    "        layers.RandomFlip(\"vertical\"),\n",
    "        layers.RandomRotation(0.1),\n",
    "        layers.RandomRotation(0.2),\n",
    "        layers.RandomRotation(0.3),\n",
    "        layers.RandomZoom(0.1),\n",
    "        layers.RandomZoom(0.2),\n",
    "        layers.RandomZoom(0.3)\n",
    "    ]\n",
    ")"
   ]
  },
  {
   "cell_type": "markdown",
   "id": "941ef297",
   "metadata": {},
   "source": [
    "# Create the model"
   ]
  },
  {
   "cell_type": "code",
   "execution_count": 3,
   "id": "ff1d2348",
   "metadata": {},
   "outputs": [
    {
     "name": "stdout",
     "output_type": "stream",
     "text": [
      "Model: \"model\"\n",
      "_________________________________________________________________\n",
      " Layer (type)                Output Shape              Param #   \n",
      "=================================================================\n",
      " input_2 (InputLayer)        [(None, 500, 375, 3)]     0         \n",
      "                                                                 \n",
      " sequential (Sequential)     (None, 500, 375, 3)       0         \n",
      "                                                                 \n",
      " lambda (Lambda)             (None, 500, 375, 3)       0         \n",
      "                                                                 \n",
      " inception_v3 (Functional)   (None, 14, 10, 2048)      21802784  \n",
      "                                                                 \n",
      " global_average_pooling2d (G  (None, 2048)             0         \n",
      " lobalAveragePooling2D)                                          \n",
      "                                                                 \n",
      " dropout (Dropout)           (None, 2048)              0         \n",
      "                                                                 \n",
      " dense (Dense)               (None, 10)                20490     \n",
      "                                                                 \n",
      "=================================================================\n",
      "Total params: 21,823,274\n",
      "Trainable params: 21,788,842\n",
      "Non-trainable params: 34,432\n",
      "_________________________________________________________________\n"
     ]
    }
   ],
   "source": [
    "import tensorflow as tf\n",
    "\n",
    "#Load the pre-trained model (InceptionV3)\n",
    "base_model=tf.keras.applications.InceptionV3(weights='imagenet', input_shape=input_shape, include_top=False) \n",
    "\n",
    "#Unfrezze the base model\n",
    "base_model.trainable = True\n",
    "\n",
    "#Define the shape of inputs\n",
    "inputs = keras.Input(shape=input_shape)\n",
    "\n",
    "#Add the augmantaion layers\n",
    "x = data_augmentation(inputs)\n",
    "\n",
    "#Preprocessing layer to rescale pixel values to be between -1 and 1 \n",
    "scale_layer=keras.layers.Lambda(keras.applications.inception_v3.preprocess_input)\n",
    "x = scale_layer(x)\n",
    "\n",
    "#When unfrezzing the base model, batch normalization layers must retain their weight values by: training=False\n",
    "x=base_model(x,training=False)\n",
    "\n",
    "#Define the pooling method\n",
    "x = keras.layers.GlobalAveragePooling2D()(x) \n",
    "\n",
    "#Add Dropout layer to reduce overfitting\n",
    "x=keras.layers.Dropout(0.2)(x)\n",
    "\n",
    "#Add the new output (classification) layer\n",
    "outputs=keras.layers.Dense(num_classes, activation='softmax')(x)\n",
    "\n",
    "#Create the model (combine the pretrained and the new layer)\n",
    "model = keras.Model(inputs, outputs)\n",
    "\n",
    "model.summary()\n",
    "\n",
    "#Define the learning rate and optimizer\n",
    "lr=1e-5\n",
    "optim=keras.optimizers.Adam(lr)\n",
    "\n",
    "#Compile the model\n",
    "model.compile(loss='categorical_crossentropy',optimizer=optim, metrics='accuracy')\n",
    "\n"
   ]
  },
  {
   "cell_type": "markdown",
   "id": "b7730c60",
   "metadata": {},
   "source": [
    "# Training the model"
   ]
  },
  {
   "cell_type": "code",
   "execution_count": 4,
   "id": "68a637ce",
   "metadata": {},
   "outputs": [],
   "source": [
    "#Next line to train the model (muted since training was already done and the results were saved)\n",
    "#history=model.fit(train_data,epochs=10,validation_data=test_data)\n",
    "\n",
    "\n",
    "\n",
    "#Load saved model\n",
    "import pickle\n",
    "saved_model=tf.keras.models.load_model('C:/Research/Logo detection project/models/model4')\n",
    "with open('C:/Research/Logo detection project/models/model4/trainHistoryDict', \"rb\") as file_pi:\n",
    "    saved_history = pickle.load(file_pi)\n",
    "\n",
    "\n"
   ]
  },
  {
   "cell_type": "markdown",
   "id": "d7c00857",
   "metadata": {},
   "source": [
    "# Plot accuracy from train and test data"
   ]
  },
  {
   "cell_type": "code",
   "execution_count": 5,
   "id": "d5af55f6",
   "metadata": {},
   "outputs": [
    {
     "data": {
      "image/png": "[encoded data removed]",
      "text/plain": [
       "<Figure size 432x288 with 1 Axes>"
      ]
     },
     "metadata": {
      "needs_background": "light"
     },
     "output_type": "display_data"
    },
    {
     "name": "stdout",
     "output_type": "stream",
     "text": [
      "Accuracy train: 0.875\n",
      "Accuracy validiation: 0.8166666626930237\n"
     ]
    }
   ],
   "source": [
    "import matplotlib.pyplot as plt\n",
    "\n",
    "#Plot using the \"saved_history\" from the saved results of training \n",
    "\n",
    "plt.plot(saved_history['accuracy'], label='Train data')\n",
    "plt.plot(saved_history['val_accuracy'], label='Test data')\n",
    "plt.legend()\n",
    "plt.xlabel('Epoch')\n",
    "plt.ylabel('Accuracy')\n",
    "plt.show()\n",
    "\n",
    "#Print Accuracy values at the end of training\n",
    "print(f\"Accuracy train: {saved_history['accuracy'][-1]}\")\n",
    "print(f\"Accuracy validation: {saved_history['val_accuracy'][-1]}\")"
   ]
  },
  {
   "cell_type": "markdown",
   "id": "a069f75f",
   "metadata": {},
   "source": [
    "# Evaluate the model (from a confusion matrix)"
   ]
  },
  {
   "cell_type": "code",
   "execution_count": 12,
   "id": "65aeb43b",
   "metadata": {},
   "outputs": [
    {
     "name": "stdout",
     "output_type": "stream",
     "text": [
      "2/2 [==============================] - 5s 2s/step\n"
     ]
    },
    {
     "data": {
      "text/plain": [
       "Text(33.0, 0.5, 'real')"
      ]
     },
     "execution_count": 12,
     "metadata": {},
     "output_type": "execute_result"
    },
    {
     "data": {
      "image/png": "[encoded data removed]",
      "text/plain": [
       "<Figure size 432x288 with 2 Axes>"
      ]
     },
     "metadata": {
      "needs_background": "light"
     },
     "output_type": "display_data"
    }
   ],
   "source": [
    "#Get the model predictions (each prediction is a 10-element array, where the highest score element is the predicted class)\n",
    "y_pred_scores=saved_model.predict(test_data)\n",
    "\n",
    "#Make classes as numbers between 0-9\n",
    "y_pred=np.argmax(y_pred_scores,axis=1) \n",
    "\n",
    "\n",
    "##Get the true classes\n",
    "#make \"test_data\" (a tf.data.Dataset object) subscriptable\n",
    "np_test_data=list(test_data.as_numpy_iterator())\n",
    "\n",
    "y_true_array=np.array([]) \n",
    "\n",
    "#Iterate on the batches of the test data and get the classes\n",
    "for x in np_test_data:\n",
    "    y_true_array=np.append(y_true_array,x[1])\n",
    "\n",
    "#Reshape according to test size and num of classes\n",
    "y_true_array=np.reshape(y_true_array,(test_size,num_classes))\n",
    "\n",
    "#Make classes as numbers between 0-9\n",
    "y_true=np.argmax(y_true_array,axis=1)\n",
    "\n",
    "\n",
    "\n",
    "#Create the confusion matrix using tf\n",
    "con_mat=tf.math.confusion_matrix(y_true, y_pred) \n",
    "\n",
    "#Visulize it using Seaborn\n",
    "import seaborn as sns\n",
    "\n",
    "fig = plt.figure()\n",
    "sns.heatmap(con_mat, annot=True, cmap='Blues',xticklabels=class_names, yticklabels=class_names)\n",
    "plt.xlabel('predicted')\n",
    "plt.ylabel('real')\n"
   ]
  },
  {
   "cell_type": "code",
   "execution_count": null,
   "id": "36d8b956",
   "metadata": {},
   "outputs": [],
   "source": []
  }
 ],
 "metadata": {
  "kernelspec": {
   "display_name": "Python 3 (ipykernel)",
   "language": "python",
   "name": "python3"
  },
  "language_info": {
   "codemirror_mode": {
    "name": "ipython",
    "version": 3
   },
   "file_extension": ".py",
   "mimetype": "text/x-python",
   "name": "python",
   "nbconvert_exporter": "python",
   "pygments_lexer": "ipython3",
   "version": "3.10.1"
  }
 },
 "nbformat": 4,
 "nbformat_minor": 5
}
